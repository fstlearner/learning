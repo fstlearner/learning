{
 "cells": [
  {
   "cell_type": "code",
   "execution_count": 44,
   "id": "eef1d9b6",
   "metadata": {},
   "outputs": [
    {
     "name": "stdout",
     "output_type": "stream",
     "text": [
      "I dont love you\n"
     ]
    }
   ],
   "source": [
    "lst=['one','two','Three','Four']\n",
    "lst.remove('two') #remove items from list\n",
    "if 'two' in lst: #keywords 'in' is used to test if an item is in list or \n",
    "    print(\"I Love you\")\n",
    "else:\n",
    "    print('I dont love you')\n",
    "\n"
   ]
  },
  {
   "cell_type": "code",
   "execution_count": 48,
   "id": "9678695d",
   "metadata": {},
   "outputs": [
    {
     "name": "stdout",
     "output_type": "stream",
     "text": [
      "Lanthu\n"
     ]
    }
   ],
   "source": [
    "if 'six' not in lst: #key words \"not in\" used together\n",
    "    print('Lanthu')"
   ]
  },
  {
   "cell_type": "code",
   "execution_count": 53,
   "id": "35f9a4aa",
   "metadata": {},
   "outputs": [
    {
     "name": "stdout",
     "output_type": "stream",
     "text": [
      "['Four', 'Three', 'two', 'one']\n"
     ]
    }
   ],
   "source": [
    "lst=['one','two','Three','Four']\n",
    "lst.reverse() #reverse the list \n",
    "print(lst)"
   ]
  },
  {
   "cell_type": "code",
   "execution_count": 63,
   "id": "c16fa143",
   "metadata": {},
   "outputs": [
    {
     "data": {
      "text/plain": [
       "[3, 4, 8, 5, 9, 6, 2, 5]"
      ]
     },
     "execution_count": 63,
     "metadata": {},
     "output_type": "execute_result"
    }
   ],
   "source": [
    "numbers=[3,4,8,5,9,6,2,5] #creating a list with numbers\n",
    "shorted_list=sorted(numbers) #it will sorted the numbers and stored in the shorted_list\n",
    "numbers.sort() #it will sort the original list\n",
    "numbers"
   ]
  },
  {
   "cell_type": "code",
   "execution_count": 67,
   "id": "e37e823d",
   "metadata": {},
   "outputs": [
    {
     "data": {
      "text/plain": [
       "[1, 2, 3, 4, 5, 6, 7]"
      ]
     },
     "execution_count": 67,
     "metadata": {},
     "output_type": "execute_result"
    }
   ],
   "source": [
    "lst=[1,2,3,4,5,6]\n",
    "abc=lst # multiple referances\n",
    "abc.append(7) #adding items in list\n",
    "lst"
   ]
  },
  {
   "cell_type": "code",
   "execution_count": 74,
   "id": "7bdb63c2",
   "metadata": {},
   "outputs": [
    {
     "name": "stdout",
     "output_type": "stream",
     "text": [
      "['one', 'two', 'three', 'four']\n"
     ]
    }
   ],
   "source": [
    "s=\"one two three four\"\n",
    "slst=s.split(' ') #converting the string into list\n",
    "print(slst)"
   ]
  },
  {
   "cell_type": "code",
   "execution_count": 86,
   "id": "e6bd5471",
   "metadata": {},
   "outputs": [
    {
     "name": "stdout",
     "output_type": "stream",
     "text": [
      "[10, 20, 30, 40, 50, 60, 70, 80, 90]\n",
      "[10, 20, 30]\n",
      "[10, 30, 50]\n"
     ]
    }
   ],
   "source": [
    "numbers=[10,20,30,40,50,60,70,80,90]\n",
    "print(numbers[:]) #print all numbers\n",
    "print(numbers[0:3]) #print numbers from index from 0 to 3\n",
    "print(numbers[0:5:2]) # print in start:end:step index"
   ]
  },
  {
   "cell_type": "code",
   "execution_count": 89,
   "id": "93627edf",
   "metadata": {},
   "outputs": [
    {
     "name": "stdout",
     "output_type": "stream",
     "text": [
      "[10, 20, 30, 40, 50, 60, 70, 80, 90, 1, 2, 3, 4, 5, 6]\n"
     ]
    }
   ],
   "source": [
    "lst1=[10,20,30,40,50,60,70,80,90]\n",
    "lst2=[1,2,3,4,5,6]\n",
    "lst3=lst1+lst2 #add list lst 1 and last2\n",
    "print(lst3)"
   ]
  },
  {
   "cell_type": "code",
   "execution_count": 91,
   "id": "c29f0875",
   "metadata": {},
   "outputs": [
    {
     "name": "stdout",
     "output_type": "stream",
     "text": [
      "1\n"
     ]
    }
   ],
   "source": [
    "lst1=[10,20,30,40,50,60,70,80,90]\n",
    "print(numbers.count(10)) #print frequncy of the number?"
   ]
  },
  {
   "cell_type": "code",
   "execution_count": null,
   "id": "72164726",
   "metadata": {},
   "outputs": [],
   "source": []
  }
 ],
 "metadata": {
  "kernelspec": {
   "display_name": "Python 3 (ipykernel)",
   "language": "python",
   "name": "python3"
  },
  "language_info": {
   "codemirror_mode": {
    "name": "ipython",
    "version": 3
   },
   "file_extension": ".py",
   "mimetype": "text/x-python",
   "name": "python",
   "nbconvert_exporter": "python",
   "pygments_lexer": "ipython3",
   "version": "3.11.5"
  }
 },
 "nbformat": 4,
 "nbformat_minor": 5
}
