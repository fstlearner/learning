{
 "cells": [
  {
   "cell_type": "code",
   "execution_count": 21,
   "id": "978f193f",
   "metadata": {},
   "outputs": [],
   "source": [
    "import pandas as pd\n",
    "from sklearn.datasets import load_digits"
   ]
  },
  {
   "cell_type": "code",
   "execution_count": 47,
   "id": "773d975b",
   "metadata": {},
   "outputs": [],
   "source": [
    "dataset=load_digits()"
   ]
  },
  {
   "cell_type": "code",
   "execution_count": 48,
   "id": "dbf32828",
   "metadata": {},
   "outputs": [
    {
     "data": {
      "text/plain": [
       "['DESCR', 'data', 'feature_names', 'frame', 'images', 'target', 'target_names']"
      ]
     },
     "execution_count": 48,
     "metadata": {},
     "output_type": "execute_result"
    }
   ],
   "source": [
    "dir(dataset)"
   ]
  },
  {
   "cell_type": "code",
   "execution_count": 49,
   "id": "1b465631",
   "metadata": {},
   "outputs": [
    {
     "data": {
      "text/plain": [
       "array([0, 1, 2, ..., 8, 9, 8])"
      ]
     },
     "execution_count": 49,
     "metadata": {},
     "output_type": "execute_result"
    }
   ],
   "source": [
    "dataset.target"
   ]
  },
  {
   "cell_type": "code",
   "execution_count": 50,
   "id": "c20c7a0d",
   "metadata": {},
   "outputs": [
    {
     "data": {
      "text/plain": [
       "array([[ 0.,  0.,  5., ...,  0.,  0.,  0.],\n",
       "       [ 0.,  0.,  0., ..., 10.,  0.,  0.],\n",
       "       [ 0.,  0.,  0., ..., 16.,  9.,  0.],\n",
       "       ...,\n",
       "       [ 0.,  0.,  1., ...,  6.,  0.,  0.],\n",
       "       [ 0.,  0.,  2., ..., 12.,  0.,  0.],\n",
       "       [ 0.,  0., 10., ..., 12.,  1.,  0.]])"
      ]
     },
     "execution_count": 50,
     "metadata": {},
     "output_type": "execute_result"
    }
   ],
   "source": [
    "dataset.data"
   ]
  },
  {
   "cell_type": "code",
   "execution_count": 96,
   "id": "d6d95350",
   "metadata": {},
   "outputs": [
    {
     "data": {
      "text/plain": [
       "[array([[ 0.,  1., 13., ..., 16., 16., 11.],\n",
       "        [ 0.,  0.,  0., ...,  3.,  0.,  0.],\n",
       "        [ 0.,  0., 10., ...,  3.,  0.,  0.],\n",
       "        ...,\n",
       "        [ 0.,  0.,  3., ...,  0.,  0.,  0.],\n",
       "        [ 0.,  0.,  0., ...,  2.,  0.,  0.],\n",
       "        [ 0.,  0.,  1., ..., 12.,  1.,  0.]]),\n",
       " array([[ 0.,  2., 11., ..., 14.,  2.,  0.],\n",
       "        [ 0.,  0., 11., ...,  5., 16.,  1.],\n",
       "        [ 0.,  0.,  0., ...,  1.,  0.,  0.],\n",
       "        ...,\n",
       "        [ 0.,  0., 10., ...,  0.,  0.,  0.],\n",
       "        [ 0.,  0.,  0., ..., 16.,  7.,  0.],\n",
       "        [ 0.,  0., 11., ...,  0.,  0.,  0.]]),\n",
       " array([2, 9, 0, ..., 4, 4, 0]),\n",
       " array([9, 9, 4, 0, 5, 2, 4, 2, 4, 4, 3, 8, 9, 7, 2, 9, 1, 3, 9, 1, 9, 4,\n",
       "        0, 7, 8, 3, 3, 3, 9, 9, 3, 9, 7, 7, 2, 0, 4, 5, 8, 3, 6, 5, 2, 8,\n",
       "        1, 7, 3, 3, 3, 8, 0, 0, 0, 4, 8, 9, 6, 8, 1, 9, 8, 6, 6, 3, 0, 3,\n",
       "        5, 1, 4, 9, 4, 9, 1, 5, 6, 0, 5, 7, 2, 3, 0, 7, 8, 8, 5, 5, 0, 5,\n",
       "        4, 6, 6, 3, 3, 2, 7, 0, 6, 8, 5, 6, 8, 8, 8, 1, 0, 0, 9, 2, 0, 7,\n",
       "        6, 2, 8, 8, 3, 9, 8, 0, 6, 2, 4, 2, 5, 8, 8, 7, 6, 6, 9, 3, 6, 7,\n",
       "        2, 6, 5, 8, 0, 6, 6, 8, 0, 1, 5, 0, 3, 3, 1, 0, 2, 3, 3, 0, 5, 5,\n",
       "        8, 8, 4, 3, 0, 5, 6, 6, 4, 2, 4, 9, 3, 2, 0, 0, 1, 0, 3, 4, 0, 9,\n",
       "        5, 7, 5, 2, 1, 6, 4, 7, 0, 7, 7, 5, 1, 4, 4, 5, 8, 5, 4, 2, 6, 3,\n",
       "        6, 2, 1, 2, 7, 2, 2, 4, 0, 3, 6, 9, 8, 8, 1, 2, 2, 6, 1, 0, 5, 4,\n",
       "        1, 1, 8, 2, 6, 1, 0, 7, 4, 6, 3, 7, 1, 2, 8, 6, 1, 8, 5, 4, 1, 4,\n",
       "        5, 9, 7, 2, 3, 8, 7, 1, 7, 4, 7, 2, 7, 4, 1, 7, 6, 3, 5, 9, 8, 9,\n",
       "        3, 7, 6, 3, 0, 9, 4, 2, 4, 6, 4, 9, 2, 6, 3, 5, 1, 4, 2, 4, 0, 2,\n",
       "        2, 6, 7, 5, 5, 1, 8, 3, 9, 2, 1, 5, 2, 8, 3, 5, 1, 2, 8, 2, 6, 7,\n",
       "        1, 3, 6, 3, 9, 6, 9, 8, 2, 0, 1, 7, 1, 0, 2, 7, 3, 1, 0, 6, 1, 9,\n",
       "        3, 0, 1, 5, 2, 2, 9, 2, 8, 7, 2, 9, 6, 5, 4, 2, 2, 4, 6, 5, 1, 8,\n",
       "        8, 0, 7, 0, 6, 8, 5, 2, 5, 3, 1, 3, 3, 7, 0, 5, 5, 3, 3, 2, 0, 9,\n",
       "        0, 9, 5, 1, 6, 1, 2, 0, 0, 7, 8, 7, 2, 6, 1, 9, 8, 3, 8, 6, 4, 5,\n",
       "        3, 2, 2, 7, 5, 2, 5, 1, 2, 7, 0, 6, 8, 3, 9, 6, 9, 3, 3, 7, 3, 1,\n",
       "        3, 7, 3, 4, 1, 0, 9, 3, 4, 0, 0, 1, 4, 8, 3, 6, 1, 1, 5, 4, 0, 4,\n",
       "        5, 3, 0, 4, 2, 5, 5, 7, 1, 8])]"
      ]
     },
     "execution_count": 96,
     "metadata": {},
     "output_type": "execute_result"
    }
   ],
   "source": [
    "from sklearn.model_selection import train_test_split\n",
    "train_test_split(dataset.data,dataset.target)"
   ]
  },
  {
   "cell_type": "code",
   "execution_count": 97,
   "id": "b9c1a0ed",
   "metadata": {},
   "outputs": [],
   "source": [
    "x_train,x_test,y_train,y_test=train_test_split(dataset.data,dataset.target,test_size=0.2)"
   ]
  },
  {
   "cell_type": "code",
   "execution_count": 103,
   "id": "74886b27",
   "metadata": {},
   "outputs": [],
   "source": [
    "from sklearn.svm import SVC\n",
    "model=SVC(gamma=10,C=10,kernel='linear') #manipulation in parameters can change the accuracy of the model"
   ]
  },
  {
   "cell_type": "code",
   "execution_count": 104,
   "id": "dd9e9717",
   "metadata": {},
   "outputs": [
    {
     "data": {
      "text/html": [
       "<style>#sk-container-id-12 {color: black;}#sk-container-id-12 pre{padding: 0;}#sk-container-id-12 div.sk-toggleable {background-color: white;}#sk-container-id-12 label.sk-toggleable__label {cursor: pointer;display: block;width: 100%;margin-bottom: 0;padding: 0.3em;box-sizing: border-box;text-align: center;}#sk-container-id-12 label.sk-toggleable__label-arrow:before {content: \"▸\";float: left;margin-right: 0.25em;color: #696969;}#sk-container-id-12 label.sk-toggleable__label-arrow:hover:before {color: black;}#sk-container-id-12 div.sk-estimator:hover label.sk-toggleable__label-arrow:before {color: black;}#sk-container-id-12 div.sk-toggleable__content {max-height: 0;max-width: 0;overflow: hidden;text-align: left;background-color: #f0f8ff;}#sk-container-id-12 div.sk-toggleable__content pre {margin: 0.2em;color: black;border-radius: 0.25em;background-color: #f0f8ff;}#sk-container-id-12 input.sk-toggleable__control:checked~div.sk-toggleable__content {max-height: 200px;max-width: 100%;overflow: auto;}#sk-container-id-12 input.sk-toggleable__control:checked~label.sk-toggleable__label-arrow:before {content: \"▾\";}#sk-container-id-12 div.sk-estimator input.sk-toggleable__control:checked~label.sk-toggleable__label {background-color: #d4ebff;}#sk-container-id-12 div.sk-label input.sk-toggleable__control:checked~label.sk-toggleable__label {background-color: #d4ebff;}#sk-container-id-12 input.sk-hidden--visually {border: 0;clip: rect(1px 1px 1px 1px);clip: rect(1px, 1px, 1px, 1px);height: 1px;margin: -1px;overflow: hidden;padding: 0;position: absolute;width: 1px;}#sk-container-id-12 div.sk-estimator {font-family: monospace;background-color: #f0f8ff;border: 1px dotted black;border-radius: 0.25em;box-sizing: border-box;margin-bottom: 0.5em;}#sk-container-id-12 div.sk-estimator:hover {background-color: #d4ebff;}#sk-container-id-12 div.sk-parallel-item::after {content: \"\";width: 100%;border-bottom: 1px solid gray;flex-grow: 1;}#sk-container-id-12 div.sk-label:hover label.sk-toggleable__label {background-color: #d4ebff;}#sk-container-id-12 div.sk-serial::before {content: \"\";position: absolute;border-left: 1px solid gray;box-sizing: border-box;top: 0;bottom: 0;left: 50%;z-index: 0;}#sk-container-id-12 div.sk-serial {display: flex;flex-direction: column;align-items: center;background-color: white;padding-right: 0.2em;padding-left: 0.2em;position: relative;}#sk-container-id-12 div.sk-item {position: relative;z-index: 1;}#sk-container-id-12 div.sk-parallel {display: flex;align-items: stretch;justify-content: center;background-color: white;position: relative;}#sk-container-id-12 div.sk-item::before, #sk-container-id-12 div.sk-parallel-item::before {content: \"\";position: absolute;border-left: 1px solid gray;box-sizing: border-box;top: 0;bottom: 0;left: 50%;z-index: -1;}#sk-container-id-12 div.sk-parallel-item {display: flex;flex-direction: column;z-index: 1;position: relative;background-color: white;}#sk-container-id-12 div.sk-parallel-item:first-child::after {align-self: flex-end;width: 50%;}#sk-container-id-12 div.sk-parallel-item:last-child::after {align-self: flex-start;width: 50%;}#sk-container-id-12 div.sk-parallel-item:only-child::after {width: 0;}#sk-container-id-12 div.sk-dashed-wrapped {border: 1px dashed gray;margin: 0 0.4em 0.5em 0.4em;box-sizing: border-box;padding-bottom: 0.4em;background-color: white;}#sk-container-id-12 div.sk-label label {font-family: monospace;font-weight: bold;display: inline-block;line-height: 1.2em;}#sk-container-id-12 div.sk-label-container {text-align: center;}#sk-container-id-12 div.sk-container {/* jupyter's `normalize.less` sets `[hidden] { display: none; }` but bootstrap.min.css set `[hidden] { display: none !important; }` so we also need the `!important` here to be able to override the default hidden behavior on the sphinx rendered scikit-learn.org. See: https://github.com/scikit-learn/scikit-learn/issues/21755 */display: inline-block !important;position: relative;}#sk-container-id-12 div.sk-text-repr-fallback {display: none;}</style><div id=\"sk-container-id-12\" class=\"sk-top-container\"><div class=\"sk-text-repr-fallback\"><pre>SVC(C=10, gamma=10, kernel=&#x27;linear&#x27;)</pre><b>In a Jupyter environment, please rerun this cell to show the HTML representation or trust the notebook. <br />On GitHub, the HTML representation is unable to render, please try loading this page with nbviewer.org.</b></div><div class=\"sk-container\" hidden><div class=\"sk-item\"><div class=\"sk-estimator sk-toggleable\"><input class=\"sk-toggleable__control sk-hidden--visually\" id=\"sk-estimator-id-12\" type=\"checkbox\" checked><label for=\"sk-estimator-id-12\" class=\"sk-toggleable__label sk-toggleable__label-arrow\">SVC</label><div class=\"sk-toggleable__content\"><pre>SVC(C=10, gamma=10, kernel=&#x27;linear&#x27;)</pre></div></div></div></div></div>"
      ],
      "text/plain": [
       "SVC(C=10, gamma=10, kernel='linear')"
      ]
     },
     "execution_count": 104,
     "metadata": {},
     "output_type": "execute_result"
    }
   ],
   "source": [
    "model.fit(x_train,y_train)"
   ]
  },
  {
   "cell_type": "code",
   "execution_count": 105,
   "id": "48108f32",
   "metadata": {},
   "outputs": [
    {
     "data": {
      "text/plain": [
       "0.9833333333333333"
      ]
     },
     "execution_count": 105,
     "metadata": {},
     "output_type": "execute_result"
    }
   ],
   "source": [
    "model.score(x_test,y_test)"
   ]
  },
  {
   "cell_type": "code",
   "execution_count": 123,
   "id": "b3a3100f",
   "metadata": {},
   "outputs": [
    {
     "data": {
      "text/plain": [
       "array([9, 9, 8, 1, 2, 9, 7, 9, 8, 1, 1, 9, 4, 7, 8, 8, 1, 3, 2, 4, 5, 6,\n",
       "       2, 9, 7, 1, 6, 4, 3, 0, 9, 1, 7, 1, 6, 6, 8, 2, 8, 1, 1, 8, 7, 2,\n",
       "       9, 6, 2, 5, 4, 9, 1, 6, 5, 8, 9, 3, 4, 2, 7, 3, 2, 0, 7, 5, 8, 3,\n",
       "       3, 8, 4, 9, 5, 9, 6, 2, 5, 2, 2, 4, 1, 2, 9, 0, 7, 1, 4, 9, 4, 0,\n",
       "       6, 6, 3, 0, 7, 0, 6, 7, 6, 2, 1, 0, 8, 9, 0, 2, 9, 4, 7, 6, 8, 7,\n",
       "       3, 3, 2, 9, 5, 7, 8, 1, 1, 4, 1, 3, 9, 1, 5, 2, 1, 2, 2, 1, 0, 3,\n",
       "       1, 1, 7, 9, 5, 0, 7, 5, 7, 2, 7, 5, 8, 9, 5, 1, 2, 4, 2, 5, 3, 4,\n",
       "       7, 0, 2, 7, 8, 8, 5, 3, 4, 6, 0, 4, 9, 6, 3, 0, 4, 0, 9, 3, 0, 9,\n",
       "       2, 8, 4, 8, 9, 5, 2, 8, 1, 8, 6, 0, 1, 4, 6, 2, 2, 1, 0, 7, 6, 9,\n",
       "       0, 6, 3, 3, 6, 7, 2, 2, 2, 9, 7, 1, 2, 9, 8, 8, 2, 4, 6, 8, 2, 7,\n",
       "       2, 5, 9, 0, 4, 1, 3, 0, 7, 0, 5, 1, 1, 6, 8, 3, 8, 9, 2, 9, 1, 2,\n",
       "       8, 4, 7, 3, 0, 0, 3, 4, 4, 2, 2, 0, 9, 1, 2, 5, 8, 9, 9, 1, 0, 3,\n",
       "       4, 5, 0, 8, 3, 5, 8, 0, 3, 4, 7, 8, 9, 5, 3, 9, 8, 2, 4, 7, 1, 0,\n",
       "       8, 3, 5, 6, 0, 0, 3, 0, 0, 6, 7, 4, 3, 0, 4, 5, 2, 8, 2, 7, 8, 1,\n",
       "       3, 9, 7, 5, 7, 8, 3, 0, 0, 7, 9, 3, 4, 3, 9, 8, 2, 5, 0, 2, 3, 9,\n",
       "       4, 1, 1, 1, 0, 9, 4, 3, 4, 2, 6, 6, 2, 5, 6, 9, 8, 9, 3, 7, 6, 4,\n",
       "       8, 2, 8, 7, 6, 9, 9, 5])"
      ]
     },
     "execution_count": 123,
     "metadata": {},
     "output_type": "execute_result"
    }
   ],
   "source": [
    "model.predict(x_test)"
   ]
  },
  {
   "cell_type": "code",
   "execution_count": 122,
   "id": "83f2f43b",
   "metadata": {},
   "outputs": [
    {
     "data": {
      "text/plain": [
       "<matplotlib.image.AxesImage at 0x15b316510>"
      ]
     },
     "execution_count": 122,
     "metadata": {},
     "output_type": "execute_result"
    },
    {
     "data": {
      "image/png": "[encoded data removed]",
      "text/plain": [
       "<Figure size 480x480 with 1 Axes>"
      ]
     },
     "metadata": {},
     "output_type": "display_data"
    }
   ],
   "source": [
    "import matplotlib.pyplot as plt\n",
    "plt.matshow(dataset.images[10])"
   ]
  },
  {
   "cell_type": "code",
   "execution_count": 127,
   "id": "eb3d26fc",
   "metadata": {},
   "outputs": [],
   "source": [
    "y_predict=model.predict(x_test)\n",
    "from sklearn.metrics import confusion_matrix\n",
    "cm=confusion_matrix(y_test,y_predict)\n"
   ]
  },
  {
   "cell_type": "code",
   "execution_count": 129,
   "id": "49187dc0",
   "metadata": {
    "scrolled": true
   },
   "outputs": [
    {
     "data": {
      "text/plain": [
       "Text(70.72222222222221, 0.5, 'Truth')"
      ]
     },
     "execution_count": 129,
     "metadata": {},
     "output_type": "execute_result"
    },
    {
     "data": {
      "image/png": "[encoded data removed]",
      "text/plain": [
       "<Figure size 800x400 with 2 Axes>"
      ]
     },
     "metadata": {},
     "output_type": "display_data"
    }
   ],
   "source": [
    "import seaborn as sn \n",
    "plt.figure(figsize=(8,4))\n",
    "sn.heatmap(cm,annot=True)\n",
    "plt.xlabel('predicted')\n",
    "plt.ylabel('Truth')"
   ]
  },
  {
   "cell_type": "code",
   "execution_count": null,
   "id": "14ee2f56",
   "metadata": {},
   "outputs": [],
   "source": []
  }
 ],
 "metadata": {
  "kernelspec": {
   "display_name": "Python 3 (ipykernel)",
   "language": "python",
   "name": "python3"
  },
  "language_info": {
   "codemirror_mode": {
    "name": "ipython",
    "version": 3
   },
   "file_extension": ".py",
   "mimetype": "text/x-python",
   "name": "python",
   "nbconvert_exporter": "python",
   "pygments_lexer": "ipython3",
   "version": "3.11.5"
  }
 },
 "nbformat": 4,
 "nbformat_minor": 5
}
